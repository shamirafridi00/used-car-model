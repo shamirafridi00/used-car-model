{
 "cells": [
  {
   "cell_type": "code",
   "execution_count": 1,
   "metadata": {},
   "outputs": [
    {
     "data": {
      "text/html": [
       "<div>\n",
       "<style scoped>\n",
       "    .dataframe tbody tr th:only-of-type {\n",
       "        vertical-align: middle;\n",
       "    }\n",
       "\n",
       "    .dataframe tbody tr th {\n",
       "        vertical-align: top;\n",
       "    }\n",
       "\n",
       "    .dataframe thead th {\n",
       "        text-align: right;\n",
       "    }\n",
       "</style>\n",
       "<table border=\"1\" class=\"dataframe\">\n",
       "  <thead>\n",
       "    <tr style=\"text-align: right;\">\n",
       "      <th></th>\n",
       "      <th>name</th>\n",
       "      <th>model_name</th>\n",
       "      <th>city</th>\n",
       "      <th>year</th>\n",
       "      <th>driving</th>\n",
       "      <th>feul</th>\n",
       "      <th>engine</th>\n",
       "      <th>kms</th>\n",
       "      <th>price</th>\n",
       "    </tr>\n",
       "  </thead>\n",
       "  <tbody>\n",
       "    <tr>\n",
       "      <th>0</th>\n",
       "      <td>Kia Sportage</td>\n",
       "      <td>KIA AWD</td>\n",
       "      <td>Sialkot</td>\n",
       "      <td>2020</td>\n",
       "      <td>Automatic</td>\n",
       "      <td>Petrol</td>\n",
       "      <td>2000</td>\n",
       "      <td>4300</td>\n",
       "      <td>55.15</td>\n",
       "    </tr>\n",
       "    <tr>\n",
       "      <th>1</th>\n",
       "      <td>Kia Sportage</td>\n",
       "      <td>KIA FWD</td>\n",
       "      <td>Islamabad</td>\n",
       "      <td>2020</td>\n",
       "      <td>Automatic</td>\n",
       "      <td>Petrol</td>\n",
       "      <td>2000</td>\n",
       "      <td>11384</td>\n",
       "      <td>52.95</td>\n",
       "    </tr>\n",
       "    <tr>\n",
       "      <th>2</th>\n",
       "      <td>Kia Sportage</td>\n",
       "      <td>KIA AWD</td>\n",
       "      <td>Islamabad</td>\n",
       "      <td>2021</td>\n",
       "      <td>Automatic</td>\n",
       "      <td>Petrol</td>\n",
       "      <td>2000</td>\n",
       "      <td>3000</td>\n",
       "      <td>57.40</td>\n",
       "    </tr>\n",
       "    <tr>\n",
       "      <th>3</th>\n",
       "      <td>Kia Sportage</td>\n",
       "      <td>KIA AWD</td>\n",
       "      <td>Islamabad</td>\n",
       "      <td>2021</td>\n",
       "      <td>Automatic</td>\n",
       "      <td>Petrol</td>\n",
       "      <td>2000</td>\n",
       "      <td>25</td>\n",
       "      <td>57.50</td>\n",
       "    </tr>\n",
       "    <tr>\n",
       "      <th>4</th>\n",
       "      <td>Kia Sportage</td>\n",
       "      <td>KIA FWD</td>\n",
       "      <td>Islamabad</td>\n",
       "      <td>2021</td>\n",
       "      <td>Automatic</td>\n",
       "      <td>Petrol</td>\n",
       "      <td>2000</td>\n",
       "      <td>50</td>\n",
       "      <td>52.80</td>\n",
       "    </tr>\n",
       "  </tbody>\n",
       "</table>\n",
       "</div>"
      ],
      "text/plain": [
       "           name model_name       city  year    driving    feul  engine    kms  \\\n",
       "0  Kia Sportage    KIA AWD    Sialkot  2020  Automatic  Petrol    2000   4300   \n",
       "1  Kia Sportage    KIA FWD  Islamabad  2020  Automatic  Petrol    2000  11384   \n",
       "2  Kia Sportage    KIA AWD  Islamabad  2021  Automatic  Petrol    2000   3000   \n",
       "3  Kia Sportage    KIA AWD  Islamabad  2021  Automatic  Petrol    2000     25   \n",
       "4  Kia Sportage    KIA FWD  Islamabad  2021  Automatic  Petrol    2000     50   \n",
       "\n",
       "   price  \n",
       "0  55.15  \n",
       "1  52.95  \n",
       "2  57.40  \n",
       "3  57.50  \n",
       "4  52.80  "
      ]
     },
     "execution_count": 1,
     "metadata": {},
     "output_type": "execute_result"
    }
   ],
   "source": [
    "import pandas as pd\n",
    "import numpy as np\n",
    "from sklearn import preprocessing\n",
    "\n",
    "\n",
    "df = pd.read_csv('pakwheels_cardataset.csv')\n",
    "df.head()"
   ]
  },
  {
   "cell_type": "code",
   "execution_count": 2,
   "metadata": {},
   "outputs": [],
   "source": [
    "categorical_variables = ['name','model_name','city','driving','feul']"
   ]
  },
  {
   "cell_type": "code",
   "execution_count": 3,
   "metadata": {},
   "outputs": [],
   "source": [
    "labelEncoder = preprocessing.LabelEncoder()"
   ]
  },
  {
   "cell_type": "code",
   "execution_count": 4,
   "metadata": {},
   "outputs": [
    {
     "name": "stdout",
     "output_type": "stream",
     "text": [
      "{'name': {'Kia Sportage': 0, 'honda civic': 1, 'suzuki alto': 2, 'suzuki bolan': 3, 'suzuki cultus': 4, 'suzuki mehran': 5, 'suzuki swift': 6, 'toyota corola': 7}, 'model_name': {'Honda ': 0, 'Honda 1.5': 1, 'Honda 1.8': 2, 'Honda 2005': 3, 'Honda EL': 4, 'Honda EX': 5, 'Honda EXi': 6, 'Honda GL': 7, 'Honda LXi': 8, 'Honda Oriel': 9, 'Honda SXi': 10, 'Honda Si': 11, 'Honda Turbo': 12, 'Honda Type': 13, 'Honda VTi': 14, 'KIA ': 15, 'KIA 2.0': 16, 'KIA AWD': 17, 'KIA Alpha': 18, 'KIA FWD': 19, 'Suzuki ': 20, 'Suzuki Auto': 21, 'Suzuki DLX': 22, 'Suzuki DX': 23, 'Suzuki E': 24, 'Suzuki ECO-L': 25, 'Suzuki ECO-S': 26, 'Suzuki EII': 27, 'Suzuki EURO': 28, 'Suzuki Euro': 29, 'Suzuki F': 30, 'Suzuki G': 31, 'Suzuki G4': 32, 'Suzuki GII': 33, 'Suzuki GL': 34, 'Suzuki L': 35, 'Suzuki Limited': 36, 'Suzuki Memorial': 37, 'Suzuki RS': 38, 'Suzuki S': 39, 'Suzuki Sport': 40, 'Suzuki TURBO': 41, 'Suzuki VP': 42, 'Suzuki VS': 43, 'Suzuki VX': 44, 'Suzuki VXL': 45, 'Suzuki VXLi': 46, 'Suzuki VXR': 47, 'Suzuki VXRi': 48, 'Suzuki X': 49, 'Suzuki XG': 50, 'Suzuki XL': 51, 'Suzuki XS': 52, 'Toyota ': 53, 'Toyota 2.0D': 54, 'Toyota Altis': 55, 'Toyota DX': 56, 'Toyota G': 57, 'Toyota GL': 58, 'Toyota GLi': 59, 'Toyota LX': 60, 'Toyota Luxel': 61, 'Toyota SE': 62, 'Toyota TX': 63, 'Toyota X': 64, 'Toyota XE': 65, 'Toyota XE-G': 66, 'Toyota XL': 67, 'Toyota XLi': 68}, 'city': {'Abottabad': 0, 'Attock': 1, 'Bahawalpur': 2, 'Chakwal': 3, 'Faisalabad': 4, 'Gujranwala': 5, 'Gujrat': 6, 'Hyderabad': 7, 'Islamabad': 8, 'Karachi': 9, 'Lahore': 10, 'Lahore ': 11, 'Mandi bahauddin': 12, 'Mansahra': 13, 'Mardan': 14, 'Multan': 15, 'Peshawar': 16, 'Quetta': 17, 'Rahim Yar Khan': 18, 'Rawalpindi': 19, 'Sargodha': 20, 'Sialkot': 21, 'Wah cantt': 22, 'other': 23}, 'driving': {'Automatic': 0, 'Manual': 1}, 'feul': {'CNG': 0, 'Diesel': 1, 'Hybrid': 2, 'LPG': 3, 'Petrol': 4}}\n"
     ]
    }
   ],
   "source": [
    "mapping_dict ={}\n",
    "for col in categorical_variables:\n",
    "    df[col] = labelEncoder.fit_transform(df[col])\n",
    "  \n",
    "    le_name_mapping = dict(zip(labelEncoder.classes_,\n",
    "                        labelEncoder.transform(labelEncoder.classes_)))\n",
    "  \n",
    "    mapping_dict[col]= le_name_mapping\n",
    "print(mapping_dict)"
   ]
  },
  {
   "cell_type": "code",
   "execution_count": 32,
   "metadata": {},
   "outputs": [],
   "source": [
    "from sklearn.model_selection import train_test_split\n",
    "from sklearn.linear_model import LinearRegression\n",
    "from sklearn.metrics import r2_score"
   ]
  },
  {
   "cell_type": "code",
   "execution_count": 8,
   "metadata": {},
   "outputs": [],
   "source": [
    "X = df.drop(columns = 'price')\n",
    "y = df['price']"
   ]
  },
  {
   "cell_type": "code",
   "execution_count": 29,
   "metadata": {},
   "outputs": [],
   "source": [
    "X_train, X_test, y_train, y_test = train_test_split(\n",
    "           X, y, test_size = 0.2)"
   ]
  },
  {
   "cell_type": "code",
   "execution_count": 11,
   "metadata": {},
   "outputs": [],
   "source": [
    "lr = LinearRegression()"
   ]
  },
  {
   "cell_type": "code",
   "execution_count": 30,
   "metadata": {},
   "outputs": [
    {
     "data": {
      "text/plain": [
       "LinearRegression()"
      ]
     },
     "execution_count": 30,
     "metadata": {},
     "output_type": "execute_result"
    }
   ],
   "source": [
    "lr.fit(X_train,y_train)"
   ]
  },
  {
   "cell_type": "code",
   "execution_count": 13,
   "metadata": {},
   "outputs": [],
   "source": [
    "y_pred = lr.predict(X_test)"
   ]
  },
  {
   "cell_type": "code",
   "execution_count": 14,
   "metadata": {},
   "outputs": [
    {
     "name": "stdout",
     "output_type": "stream",
     "text": [
      "[25.64698391 28.95442205 18.55951552 ... 22.05697991 34.45150848\n",
      " 15.50214676]\n"
     ]
    }
   ],
   "source": [
    "print(y_pred)"
   ]
  },
  {
   "cell_type": "code",
   "execution_count": 59,
   "metadata": {},
   "outputs": [
    {
     "data": {
      "text/plain": [
       "0.8125981539478349"
      ]
     },
     "execution_count": 59,
     "metadata": {},
     "output_type": "execute_result"
    }
   ],
   "source": [
    "lr.score(X_test,y_test)"
   ]
  },
  {
   "cell_type": "code",
   "execution_count": 63,
   "metadata": {},
   "outputs": [
    {
     "data": {
      "text/plain": [
       "RandomForestRegressor(random_state=0)"
      ]
     },
     "execution_count": 63,
     "metadata": {},
     "output_type": "execute_result"
    }
   ],
   "source": [
    "from sklearn.ensemble import RandomForestRegressor\n",
    "  \n",
    " # create regressor object\n",
    "regressor = RandomForestRegressor(n_estimators = 100, random_state = 0)\n",
    "  \n",
    "# fit the regressor with x and y data\n",
    "regressor.fit(X_train, y_train)  "
   ]
  },
  {
   "cell_type": "code",
   "execution_count": 64,
   "metadata": {},
   "outputs": [
    {
     "data": {
      "text/plain": [
       "0.9569196786372022"
      ]
     },
     "execution_count": 64,
     "metadata": {},
     "output_type": "execute_result"
    }
   ],
   "source": [
    "regressor.score(X_test,y_test)"
   ]
  },
  {
   "cell_type": "code",
   "execution_count": 49,
   "metadata": {},
   "outputs": [],
   "source": [
    "score = []\n",
    "for i in range(1000):\n",
    "    X_train,X_test,y_train,y_test = train_test_split(X,y,test_size=0.2,random_state=i)\n",
    "    lr = LinearRegression()\n",
    "    lr.fit(X_train,y_train)\n",
    "    y_pred = lr.predict(X_test)\n",
    "    score.append(r2_score(y_test,y_pred))"
   ]
  },
  {
   "cell_type": "code",
   "execution_count": 50,
   "metadata": {},
   "outputs": [
    {
     "data": {
      "text/plain": [
       "660"
      ]
     },
     "execution_count": 50,
     "metadata": {},
     "output_type": "execute_result"
    }
   ],
   "source": [
    "np.argmax(score)"
   ]
  },
  {
   "cell_type": "code",
   "execution_count": 51,
   "metadata": {},
   "outputs": [
    {
     "data": {
      "text/plain": [
       "0.8144421855268296"
      ]
     },
     "execution_count": 51,
     "metadata": {},
     "output_type": "execute_result"
    }
   ],
   "source": [
    "score[np.argmax(score)]"
   ]
  },
  {
   "cell_type": "code",
   "execution_count": 54,
   "metadata": {},
   "outputs": [
    {
     "data": {
      "text/plain": [
       "0.8125981539478349"
      ]
     },
     "execution_count": 54,
     "metadata": {},
     "output_type": "execute_result"
    }
   ],
   "source": [
    "X_train,X_test,y_train,y_test = train_test_split(X,y,test_size=0.3,random_state=np.argmax(score))\n",
    "lr = LinearRegression()\n",
    "lr.fit(X_train,y_train)\n",
    "y_pred = lr.predict(X_test)\n",
    "r2_score(y_test,y_pred)"
   ]
  },
  {
   "cell_type": "code",
   "execution_count": 74,
   "metadata": {},
   "outputs": [],
   "source": [
    "import pickle "
   ]
  },
  {
   "cell_type": "code",
   "execution_count": 76,
   "metadata": {},
   "outputs": [],
   "source": [
    "pickle.dump(regressor,open('r.pkl','wb'))"
   ]
  },
  {
   "cell_type": "code",
   "execution_count": 67,
   "metadata": {},
   "outputs": [],
   "source": [
    "import joblib"
   ]
  },
  {
   "cell_type": "code",
   "execution_count": 77,
   "metadata": {},
   "outputs": [
    {
     "data": {
      "text/plain": [
       "['r.pkl']"
      ]
     },
     "execution_count": 77,
     "metadata": {},
     "output_type": "execute_result"
    }
   ],
   "source": [
    "joblib.dump(regressor,'r.pkl',compress=True)"
   ]
  },
  {
   "cell_type": "code",
   "execution_count": 73,
   "metadata": {},
   "outputs": [
    {
     "ename": "ModuleNotFoundError",
     "evalue": "No module named 'compress_pickle'",
     "output_type": "error",
     "traceback": [
      "\u001b[1;31m---------------------------------------------------------------------------\u001b[0m",
      "\u001b[1;31mModuleNotFoundError\u001b[0m                       Traceback (most recent call last)",
      "\u001b[1;32m<ipython-input-73-b3bdb081c995>\u001b[0m in \u001b[0;36m<module>\u001b[1;34m\u001b[0m\n\u001b[1;32m----> 1\u001b[1;33m \u001b[1;32mfrom\u001b[0m \u001b[0mcompress_pickle\u001b[0m \u001b[1;32mimport\u001b[0m \u001b[0mdump\u001b[0m\u001b[1;33m,\u001b[0m \u001b[0mload\u001b[0m\u001b[1;33m\u001b[0m\u001b[1;33m\u001b[0m\u001b[0m\n\u001b[0m",
      "\u001b[1;31mModuleNotFoundError\u001b[0m: No module named 'compress_pickle'"
     ]
    }
   ],
   "source": [
    "from compress_pickle import dump, load"
   ]
  },
  {
   "cell_type": "code",
   "execution_count": 78,
   "metadata": {},
   "outputs": [
    {
     "ename": "ImportError",
     "evalue": "cannot import name 'joblib' from 'sklearn.externals' (C:\\Softwares\\lib\\site-packages\\sklearn\\externals\\__init__.py)",
     "output_type": "error",
     "traceback": [
      "\u001b[1;31m---------------------------------------------------------------------------\u001b[0m",
      "\u001b[1;31mImportError\u001b[0m                               Traceback (most recent call last)",
      "\u001b[1;32m<ipython-input-78-985ca8ff1659>\u001b[0m in \u001b[0;36m<module>\u001b[1;34m\u001b[0m\n\u001b[1;32m----> 1\u001b[1;33m \u001b[1;32mfrom\u001b[0m \u001b[0msklearn\u001b[0m\u001b[1;33m.\u001b[0m\u001b[0mexternals\u001b[0m \u001b[1;32mimport\u001b[0m \u001b[0mjoblib\u001b[0m\u001b[1;33m\u001b[0m\u001b[1;33m\u001b[0m\u001b[0m\n\u001b[0m",
      "\u001b[1;31mImportError\u001b[0m: cannot import name 'joblib' from 'sklearn.externals' (C:\\Softwares\\lib\\site-packages\\sklearn\\externals\\__init__.py)"
     ]
    }
   ],
   "source": [
    "from sklearn.externals import joblib"
   ]
  },
  {
   "cell_type": "code",
   "execution_count": null,
   "metadata": {},
   "outputs": [],
   "source": []
  }
 ],
 "metadata": {
  "kernelspec": {
   "display_name": "Python 3",
   "language": "python",
   "name": "python3"
  },
  "language_info": {
   "codemirror_mode": {
    "name": "ipython",
    "version": 3
   },
   "file_extension": ".py",
   "mimetype": "text/x-python",
   "name": "python",
   "nbconvert_exporter": "python",
   "pygments_lexer": "ipython3",
   "version": "3.8.3"
  }
 },
 "nbformat": 4,
 "nbformat_minor": 4
}
